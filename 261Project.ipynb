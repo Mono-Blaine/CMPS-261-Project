{
  "nbformat": 4,
  "nbformat_minor": 0,
  "metadata": {
    "colab": {
      "provenance": [],
      "authorship_tag": "ABX9TyPu1xAq7RzchbxotSf2aN+/",
      "include_colab_link": true
    },
    "kernelspec": {
      "name": "python3",
      "display_name": "Python 3"
    },
    "language_info": {
      "name": "python"
    }
  },
  "cells": [
    {
      "cell_type": "markdown",
      "metadata": {
        "id": "view-in-github",
        "colab_type": "text"
      },
      "source": [
        "<a href=\"https://colab.research.google.com/github/Mono-Blaine/CMPS-261-Project/blob/master/261Project.ipynb\" target=\"_parent\"><img src=\"https://colab.research.google.com/assets/colab-badge.svg\" alt=\"Open In Colab\"/></a>"
      ]
    },
    {
      "cell_type": "code",
      "execution_count": 8,
      "metadata": {
        "id": "Czl7jgWCyEGP"
      },
      "outputs": [],
      "source": [
        "import pandas as pd\n",
        "import numpy as np\n",
        "import seaborn as sns\n",
        "\n",
        "from sklearn.linear_model import LogisticRegressionCV\n",
        "from xgboost import XGBClassifier\n",
        "\n",
        "from sklearn.model_selection import train_test_split\n",
        "from sklearn.metrics import confusion_matrix, classification_report, r2_score, mean_squared_log_error, accuracy_score\n",
        "from sklearn.model_selection import cross_val_score, KFold\n",
        "\n",
        "from sklearn.preprocessing import StandardScaler\n",
        "from sklearn.impute import SimpleImputer\n",
        "\n",
        "from sklearn.neural_network import MLPClassifier\n",
        "# from sklearn.neural_network import MLPRegressor\n",
        "\n",
        "from keras import Sequential\n",
        "from keras.layers import Dense\n",
        "from keras.optimizers import Adam\n",
        "\n",
        "from keras.metrics import Accuracy\n",
        "\n",
        "from keras.callbacks import ModelCheckpoint\n",
        "\n",
        "# load the dataset\n",
        "# header=None prevents the first row from becoming column names\n",
        "data = pd.read_csv('HIGGS_train.csv', header=None, low_memory=False)"
      ]
    },
    {
      "cell_type": "code",
      "source": [
        "# removes rows that aren't of type float. however, removes a lot so something wrong may be happening\n",
        "# for i in range(29):\n",
        "#     data = data[[not isinstance(value, str) for value in data[i]]]\n",
        "#     data = data[[isinstance(value, float) for value in data[i]]]\n",
        "\n",
        "# removes columns that aren't all float\n",
        "# data2=data2.select_dtypes(include=['float64'])\n",
        "# data2=data2.select_dtypes(exclude=['object'])\n",
        "\n",
        "print(data.shape)\n",
        "\n",
        "def filter(value):\n",
        "    if isinstance(value, str) and not value.isnumeric():\n",
        "        try:\n",
        "            return float(value.replace('\"','').replace('\\'',''))\n",
        "        except:\n",
        "            return 0;\n",
        "    return value\n",
        "\n",
        "data = data.applymap(filter)\n",
        "\n",
        "print(data.shape)\n",
        "\n",
        "# get features\n",
        "X = data.iloc[:, 1:]\n",
        "# get output\n",
        "y = data.iloc[:, 0]\n",
        "\n",
        "X_train, X_test, y_train, y_test = train_test_split(X, y, test_size=0.3, random_state=42)"
      ],
      "metadata": {
        "colab": {
          "base_uri": "https://localhost:8080/"
        },
        "id": "Rw4I81hPyN5z",
        "outputId": "c9345c39-1bb4-4074-cc5c-8629db2fdc73"
      },
      "execution_count": 9,
      "outputs": [
        {
          "output_type": "stream",
          "name": "stdout",
          "text": [
            "(600000, 29)\n",
            "(600000, 29)\n"
          ]
        }
      ]
    },
    {
      "cell_type": "code",
      "source": [
        "# MLPClassifier cannot handle NaN values\n",
        "# Remove the NaN values from the training and testing set and replace it by the mean using Imputer\n",
        "imputer = SimpleImputer(missing_values=np.nan, strategy='mean')\n",
        "imputer = imputer.fit(X_train)\n",
        "X_train = imputer.transform(X_train)\n",
        "\n",
        "imputer = imputer.fit(X_test)\n",
        "X_test = imputer.transform(X_test)\n",
        "\n",
        "mlp = MLPClassifier(hidden_layer_sizes=(50, 55, 45, 40, 30), max_iter=500, solver = 'adam', alpha =0.02,  activation='relu')\n",
        "mlp.fit(X_train, y_train)\n",
        "pred = mlp.predict(X_test)\n",
        "\n",
        "train_pred = mlp.predict(X_train)\n",
        "train_acc = accuracy_score(y_train, train_pred)\n",
        "print(\"Training accuracy:\", train_acc)\n",
        "\n",
        "confusion_matrix(y_test, pred)\n",
        "print(classification_report(y_test, pred))"
      ],
      "metadata": {
        "id": "JqiSBLszV5Ok"
      },
      "execution_count": null,
      "outputs": []
    },
    {
      "cell_type": "code",
      "source": [
        "# scales features\n",
        "# result = (value - mean) / standardDeviation\n",
        "sc = StandardScaler()\n",
        "X_train = sc.fit_transform(X_train)\n",
        "X_test = sc.transform(X_test)\n",
        "\n",
        "# fills missing values, if any\n",
        "imp = SimpleImputer(missing_values=np.nan, strategy='most_frequent')\n",
        "X_train = imp.fit_transform(X_train)\n",
        "X_test = imp.fit_transform(X_test)\n",
        "\n",
        "# create the model\n",
        "model = LogisticRegressionCV(max_iter=10000, penalty='l2', solver='lbfgs', Cs=[0.001, 0.01, 0.1, 1, 10, 100], cv=5)\n",
        "\n",
        "# training\n",
        "model.fit(X_train, y_train)\n",
        "\n",
        "# predict the result of testing data\n",
        "y_pred = model.predict(X_test)\n",
        "\n",
        "# check model performance\n",
        "accuracy = accuracy_score(y_test, y_pred)\n",
        "print(\"Accuracy:\", accuracy)\n",
        "# print(cross_val_score(model, X, y, cv=5, error_score='raise'))\n",
        "# Accuracy: 0.6420222222222223"
      ],
      "metadata": {
        "colab": {
          "base_uri": "https://localhost:8080/"
        },
        "id": "1UAOm935yTKF",
        "outputId": "753f641d-2474-41b5-baa7-c313abb2c938"
      },
      "execution_count": 52,
      "outputs": [
        {
          "output_type": "stream",
          "name": "stdout",
          "text": [
            "Accuracy: 0.6420222222222223\n"
          ]
        }
      ]
    },
    {
      "cell_type": "code",
      "source": [
        "# create the XGBoost model\n",
        "model = XGBClassifier(objective=\"binary:logistic\",\n",
        "                      random_state=42,\n",
        "                      max_depth=6, # 0.7380666666666666\n",
        "                      learning_rate=0.25)\n",
        "\n",
        "# train the model\n",
        "model.fit(X_train, y_train, eval_set=[(X_test, y_test)])\n",
        "\n",
        "# predict the result of testing data\n",
        "y_pred = model.predict(X_test)\n",
        "\n",
        "# check model performance\n",
        "print(\"Accuracy Score:\", accuracy_score(y_test, y_pred))\n",
        "\n",
        "# do K-fold (5-fold) cross-validation\n",
        "kfold = KFold(n_splits=5, shuffle=True)\n",
        "kf_cv_scores = cross_val_score(model, X_train, y_train, cv=kfold )\n",
        "print(\"K-fold CV average score: %.2f\" % kf_cv_scores.mean())"
      ],
      "metadata": {
        "id": "J5iaShaFyWJb"
      },
      "execution_count": null,
      "outputs": []
    },
    {
      "cell_type": "code",
      "source": [
        "model = Sequential([Dense(240, activation=\"relu\"),\n",
        "                    Dense(120, activation=\"relu\"),\n",
        "                    Dense(50, activation=\"relu\"),\n",
        "                    Dense(30, activation=\"relu\"),\n",
        "                    Dense(15, activation=\"relu\"),\n",
        "                    Dense(1, activation=\"sigmoid\")\n",
        "                   ])\n",
        "\n",
        "optimizer = Adam(learning_rate=0.0005)\n",
        "\n",
        "checkpoint = ModelCheckpoint(\n",
        "    'best_model.h5',\n",
        "    monitor='accuracy',\n",
        "    verbose=1,\n",
        "    save_best_only=True,\n",
        "    save_freq='epoch',\n",
        ")\n",
        "\n",
        "model.compile(optimizer=optimizer, loss='binary_crossentropy', metrics=['accuracy'])\n",
        "\n",
        "model.fit(X_train, y_train, epochs=50, callbacks=[checkpoint])\n",
        "\n",
        "model.input_shape"
      ],
      "metadata": {
        "id": "t641CIiFyZUJ"
      },
      "execution_count": null,
      "outputs": []
    },
    {
      "cell_type": "code",
      "source": [
        "from keras import Sequential\n",
        "from keras.layers import Dense\n",
        "from keras.optimizers import Adam\n",
        "from keras.metrics import Accuracy\n",
        "\n",
        "model_from_file = Sequential([Dense(240, activation=\"relu\"),\n",
        "                              Dense(120, activation=\"relu\"),\n",
        "                              Dense(50, activation=\"relu\"),\n",
        "                              Dense(30, activation=\"relu\"),\n",
        "                              Dense(15, activation=\"relu\"),\n",
        "                              Dense(1, activation=\"sigmoid\")\n",
        "                             ])\n",
        "\n",
        "optimizer = Adam(learning_rate=0.0005)\n",
        "\n",
        "model_from_file.compile(optimizer=optimizer, loss='binary_crossentropy', metrics=['accuracy'])\n",
        "\n",
        "model_from_file.build([32, 28])\n",
        "\n",
        "model_from_file.load_weights('best_model.h5')\n",
        "\n",
        "print('Training Accuracy:')\n",
        "model_from_file.evaluate(X_train, y_train, verbose=2)\n",
        "\n",
        "print('Testing Accuracy:')\n",
        "model_from_file.evaluate(X_test, y_test, verbose=2)"
      ],
      "metadata": {
        "id": "FsD9p--1yeIi"
      },
      "execution_count": null,
      "outputs": []
    }
  ]
}