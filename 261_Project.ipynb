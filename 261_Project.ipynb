{
  "nbformat": 4,
  "nbformat_minor": 0,
  "metadata": {
    "colab": {
      "provenance": [],
      "mount_file_id": "1vVQGAl6GVHM84ZTEeX7Mw1pvMMoJ__Zl",
      "authorship_tag": "ABX9TyMJCntvLRhzCoHonbO8S28G",
      "include_colab_link": true
    },
    "kernelspec": {
      "name": "python3",
      "display_name": "Python 3"
    },
    "language_info": {
      "name": "python"
    },
    "accelerator": "GPU",
    "gpuClass": "standard"
  },
  "cells": [
    {
      "cell_type": "markdown",
      "metadata": {
        "id": "view-in-github",
        "colab_type": "text"
      },
      "source": [
        "<a href=\"https://colab.research.google.com/github/Mono-Blaine/CMPS-261-Project/blob/master/261_Project.ipynb\" target=\"_parent\"><img src=\"https://colab.research.google.com/assets/colab-badge.svg\" alt=\"Open In Colab\"/></a>"
      ]
    },
    {
      "cell_type": "code",
      "source": [
        "import pandas as pd\n",
        "import numpy as np\n",
        "from sklearn.linear_model import LogisticRegression\n",
        "from sklearn.model_selection import train_test_split\n",
        "from sklearn.impute import SimpleImputer\n",
        "from sklearn.metrics import accuracy_score\n",
        "from sklearn.model_selection import cross_val_score\n",
        "from xgboost import XGBRegressor"
      ],
      "metadata": {
        "id": "H376hfkon4Bi"
      },
      "execution_count": 1,
      "outputs": []
    },
    {
      "cell_type": "code",
      "execution_count": 2,
      "metadata": {
        "id": "nGVZMzRFOW5T",
        "colab": {
          "base_uri": "https://localhost:8080/"
        },
        "outputId": "7c4e115b-c4ba-4d00-e1b3-f4913450f72f"
      },
      "outputs": [
        {
          "output_type": "stream",
          "name": "stderr",
          "text": [
            "<ipython-input-2-515a8d45932e>:3: DtypeWarning: Columns (8,21) have mixed types. Specify dtype option on import or set low_memory=False.\n",
            "  data = pd.read_csv('drive/MyDrive/HIGGS_train.csv', header=None)\n"
          ]
        }
      ],
      "source": [
        "# Load the dataset\n",
        "# header=None prevents the first row from becoming column names\n",
        "data = pd.read_csv('drive/MyDrive/HIGGS_train.csv', header=None)\n",
        "# columns=['0','1','2','3','4','5','6','7','8','9','10','11','12','13','14','15','16','17','18','19','20','21','22','23','24','25','26','27','28',]"
      ]
    },
    {
      "cell_type": "markdown",
      "source": [
        "# **Preprocessing**"
      ],
      "metadata": {
        "id": "_Js7tzxfm7uG"
      }
    },
    {
      "cell_type": "code",
      "source": [
        "# print(data[8])\n",
        "# print(data.head())\n",
        "# data[data.iloc[:, 1:] > 70] \n",
        "data=data.select_dtypes(include=['float64'])\n",
        "data=data.select_dtypes(exclude=['object'])\n",
        "\n",
        "# data=data.fillna(0)\n",
        "data=data.dropna()\n",
        "\n",
        "# Separate the target variable and input features\n",
        "X = data.iloc[:, 1:]\n",
        "y = data.iloc[:, 0]"
      ],
      "metadata": {
        "id": "iJKgz8_5n2o4"
      },
      "execution_count": 5,
      "outputs": []
    },
    {
      "cell_type": "markdown",
      "source": [
        "# **Logistic Regression**"
      ],
      "metadata": {
        "id": "GQ8tAHZYo83-"
      }
    },
    {
      "cell_type": "code",
      "source": [
        "# Split the data into training and testing sets\n",
        "X_train, X_test, y_train, y_test = train_test_split(X, y, test_size=0.3, random_state=42)\n",
        "\n",
        "# Handle the missing values using Imputer\n",
        "imputer = SimpleImputer(missing_values=np.nan, strategy='mean')\n",
        "X_train = imputer.fit_transform(X_train)\n",
        "X_test = imputer.transform(X_test)\n",
        "\n",
        "# Create a logistic regression model\n",
        "model = LogisticRegression()\n",
        "\n",
        "# Train the model\n",
        "model.fit(X_train, y_train)\n",
        "\n",
        "# Predict the target variable for the testing data\n",
        "y_pred = model.predict(X_test)\n",
        "\n",
        "# Evaluate the performance of the model\n",
        "accuracy = accuracy_score(y_test, y_pred)\n",
        "print(\"Accuracy:\", accuracy)\n",
        "print(cross_val_score(model, X, y, cv=5))\n",
        "\n",
        "# Accuracy: 0.6412722222222222\n",
        "# [0.63906667 0.64083333 0.64368333 0.63920833 0.64088333]"
      ],
      "metadata": {
        "colab": {
          "base_uri": "https://localhost:8080/"
        },
        "id": "5NqDXUnJn-k4",
        "outputId": "9b797609-e2a8-487d-deb1-164022f30a9a"
      },
      "execution_count": null,
      "outputs": [
        {
          "output_type": "stream",
          "name": "stdout",
          "text": [
            "Accuracy: 0.6412722222222222\n",
            "[0.63906667 0.64083333 0.64368333 0.63920833 0.64088333]\n"
          ]
        }
      ]
    },
    {
      "cell_type": "markdown",
      "source": [
        "# **XGBoost**"
      ],
      "metadata": {
        "id": "r9bKvDh7nBAV"
      }
    },
    {
      "cell_type": "code",
      "source": [
        "scores = cross_val_score(XGBRegressor(), X, y, scoring='neg_mean_squared_error')\n",
        "scores"
      ],
      "metadata": {
        "colab": {
          "base_uri": "https://localhost:8080/"
        },
        "id": "LgseyH1CmRUe",
        "outputId": "7439e2f7-262a-4d2c-8145-c02cf7aaac73"
      },
      "execution_count": 6,
      "outputs": [
        {
          "output_type": "execute_result",
          "data": {
            "text/plain": [
              "array([-0.17749921, -0.17616643, -0.17543016, -0.17692017, -0.17591041])"
            ]
          },
          "metadata": {},
          "execution_count": 6
        }
      ]
    }
  ]
}