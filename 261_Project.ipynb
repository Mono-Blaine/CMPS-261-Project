{
  "nbformat": 4,
  "nbformat_minor": 0,
  "metadata": {
    "colab": {
      "provenance": [],
      "mount_file_id": "1vVQGAl6GVHM84ZTEeX7Mw1pvMMoJ__Zl",
      "authorship_tag": "ABX9TyO15jluiZSpQQpGY5neWB2e",
      "include_colab_link": true
    },
    "kernelspec": {
      "name": "python3",
      "display_name": "Python 3"
    },
    "language_info": {
      "name": "python"
    },
    "gpuClass": "standard"
  },
  "cells": [
    {
      "cell_type": "markdown",
      "metadata": {
        "id": "view-in-github",
        "colab_type": "text"
      },
      "source": [
        "<a href=\"https://colab.research.google.com/github/Mono-Blaine/CMPS-261-Project/blob/master/261_Project.ipynb\" target=\"_parent\"><img src=\"https://colab.research.google.com/assets/colab-badge.svg\" alt=\"Open In Colab\"/></a>"
      ]
    },
    {
      "cell_type": "code",
      "source": [
        "import pandas as pd\n",
        "import numpy as np\n",
        "from sklearn.linear_model import LogisticRegression\n",
        "from sklearn.model_selection import train_test_split\n",
        "from sklearn.impute import SimpleImputer\n",
        "from sklearn.metrics import auc, accuracy_score, mean_squared_error, confusion_matrix\n",
        "from sklearn.model_selection import cross_val_score, KFold, GridSearchCV\n",
        "from xgboost import XGBClassifier\n",
        "from sklearn.preprocessing import StandardScaler\n",
        "from sklearn.pipeline import Pipeline\n",
        "from sklearn.svm import SVC\n",
        "\n",
        "from tensorflow.keras.layers import Dense\n",
        "from tensorflow.keras.metrics import Accuracy\n",
        "from keras import Sequential"
      ],
      "metadata": {
        "id": "H376hfkon4Bi"
      },
      "execution_count": 1,
      "outputs": []
    },
    {
      "cell_type": "code",
      "execution_count": 2,
      "metadata": {
        "id": "nGVZMzRFOW5T",
        "colab": {
          "base_uri": "https://localhost:8080/"
        },
        "outputId": "675a19a7-2103-42af-e871-3f6673c2ca6e"
      },
      "outputs": [
        {
          "output_type": "stream",
          "name": "stderr",
          "text": [
            "<ipython-input-2-27c2f706f39b>:3: DtypeWarning: Columns (8,21) have mixed types. Specify dtype option on import or set low_memory=False.\n",
            "  data = pd.read_csv('drive/MyDrive/HIGGS_train.csv', header=None)\n"
          ]
        }
      ],
      "source": [
        "# load the dataset\n",
        "# header=None prevents the first row from becoming column names\n",
        "data = pd.read_csv('drive/MyDrive/HIGGS_train.csv', header=None)"
      ]
    },
    {
      "cell_type": "markdown",
      "source": [
        "# **Preprocessing**"
      ],
      "metadata": {
        "id": "_Js7tzxfm7uG"
      }
    },
    {
      "cell_type": "markdown",
      "source": [
        "**Dirty Data:**\n",
        "* 490960V: error\n",
        "* 490961V: s\n",
        "* 261027I: \"1.01\""
      ],
      "metadata": {
        "id": "4yICHjd0LZ4V"
      }
    },
    {
      "cell_type": "code",
      "source": [
        "# removes rows that aren't of type float. however, removes a lot so something wrong may be happening\n",
        "# for i in range(29):\n",
        "#     data = data[[not isinstance(value, str) for value in data[i]]]\n",
        "#     data = data[[isinstance(value, float) for value in data[i]]]\n",
        "\n",
        "# removes columns that aren't all float\n",
        "# data2=data2.select_dtypes(include=['float64'])\n",
        "# data2=data2.select_dtypes(exclude=['object'])\n",
        "\n",
        "print(data.shape)\n",
        "\n",
        "def filter(value):\n",
        "    if isinstance(value, str) and not value.isnumeric():\n",
        "        try:\n",
        "            return float(value.replace('\"','').replace('\\'',''))\n",
        "        except:\n",
        "            return 1;\n",
        "    return value\n",
        "\n",
        "data = data.applymap(filter)\n",
        "\n",
        "print(data.shape)\n",
        "\n",
        "# get features\n",
        "X = data.iloc[:, 1:]\n",
        "# get output\n",
        "y = data.iloc[:, 0]"
      ],
      "metadata": {
        "id": "iJKgz8_5n2o4",
        "colab": {
          "base_uri": "https://localhost:8080/"
        },
        "outputId": "3c4e22b7-a45c-4c82-b9fb-fcfd9a9a17db"
      },
      "execution_count": 3,
      "outputs": [
        {
          "output_type": "stream",
          "name": "stdout",
          "text": [
            "(600000, 29)\n",
            "(600000, 29)\n"
          ]
        }
      ]
    },
    {
      "cell_type": "markdown",
      "source": [
        "# **Logistic Regression**"
      ],
      "metadata": {
        "id": "GQ8tAHZYo83-"
      }
    },
    {
      "cell_type": "code",
      "source": [
        "# split the data into training and testing sets\n",
        "X_train, X_test, y_train, y_test = train_test_split(X, y, test_size=0.3, random_state=42)\n",
        "\n",
        "sc = StandardScaler()\n",
        "X_train = sc.fit_transform(X_train)\n",
        "X_test = sc.transform(X_test)\n",
        "\n",
        "imp = SimpleImputer(missing_values=np.nan, strategy='most_frequent')\n",
        "X_train = imp.fit_transform(X_train)\n",
        "X_test = imp.fit_transform(X_test)\n",
        "\n",
        "# create the model\n",
        "model = LogisticRegression(max_iter=10000,  penalty='l2', solver='lbfgs')\n",
        "\n",
        "# training\n",
        "model.fit(X_train, y_train)\n",
        "\n",
        "# predict the result of testing data\n",
        "y_pred = model.predict(X_test)\n",
        "\n",
        "# check model performance\n",
        "accuracy = accuracy_score(y_test, y_pred)\n",
        "print(\"Accuracy:\", accuracy)\n",
        "# print(cross_val_score(model, X, y, cv=5, error_score='raise'))\n",
        "# Accuracy: 0.6420222222222223"
      ],
      "metadata": {
        "colab": {
          "base_uri": "https://localhost:8080/"
        },
        "id": "5NqDXUnJn-k4",
        "outputId": "0f6eeec8-786c-4980-b7db-426784a13c17"
      },
      "execution_count": null,
      "outputs": [
        {
          "output_type": "stream",
          "name": "stdout",
          "text": [
            "Accuracy: 0.6420166666666667\n"
          ]
        }
      ]
    },
    {
      "cell_type": "markdown",
      "source": [
        "# **XGBoost**"
      ],
      "metadata": {
        "id": "r9bKvDh7nBAV"
      }
    },
    {
      "cell_type": "code",
      "source": [
        "# create the XGBoost model\n",
        "model = XGBClassifier(objective=\"binary:logistic\",\n",
        "                      random_state=42,\n",
        "                      max_depth=6, # 0.7380666666666666\n",
        "                      learning_rate=0.25)\n",
        "\n",
        "# split the data into training and testing sets\n",
        "X_train, X_test, y_train, y_test = train_test_split(X, y, random_state=42)\n",
        "\n",
        "# train the model\n",
        "model.fit(X_train, y_train, eval_set=[(X_test, y_test)])\n",
        "\n",
        "# predict the result of testing data\n",
        "y_pred = model.predict(X_test)\n",
        "\n",
        "# check model performance\n",
        "print(\"Accuracy Score:\", accuracy_score(y_test, y_pred))\n",
        "cm = confusion_matrix(y_test, y_pred) \n",
        "print(\"Confusion Matrix\")\n",
        "print(cm)\n",
        "\n",
        "# do K-fold (5-fold) cross-validation\n",
        "# kfold = KFold(n_splits=10, shuffle=True)\n",
        "# kf_cv_scores = cross_val_score(model, X_train, y_train, cv=kfold )\n",
        "# print(\"K-fold CV average score: %.2f\" % kf_cv_scores.mean())"
      ],
      "metadata": {
        "colab": {
          "base_uri": "https://localhost:8080/"
        },
        "id": "LgseyH1CmRUe",
        "outputId": "26132ac3-9b49-420d-b3e2-d82bc678fcff"
      },
      "execution_count": 25,
      "outputs": [
        {
          "output_type": "stream",
          "name": "stdout",
          "text": [
            "[0]\tvalidation_0-logloss:0.65261\n",
            "[1]\tvalidation_0-logloss:0.62713\n",
            "[2]\tvalidation_0-logloss:0.60944\n",
            "[3]\tvalidation_0-logloss:0.59720\n",
            "[4]\tvalidation_0-logloss:0.58707\n",
            "[5]\tvalidation_0-logloss:0.57900\n",
            "[6]\tvalidation_0-logloss:0.57244\n",
            "[7]\tvalidation_0-logloss:0.56699\n",
            "[8]\tvalidation_0-logloss:0.56237\n",
            "[9]\tvalidation_0-logloss:0.55932\n",
            "[10]\tvalidation_0-logloss:0.55632\n",
            "[11]\tvalidation_0-logloss:0.55335\n",
            "[12]\tvalidation_0-logloss:0.55115\n",
            "[13]\tvalidation_0-logloss:0.54916\n",
            "[14]\tvalidation_0-logloss:0.54732\n",
            "[15]\tvalidation_0-logloss:0.54549\n",
            "[16]\tvalidation_0-logloss:0.54428\n",
            "[17]\tvalidation_0-logloss:0.54273\n",
            "[18]\tvalidation_0-logloss:0.54153\n",
            "[19]\tvalidation_0-logloss:0.54001\n",
            "[20]\tvalidation_0-logloss:0.53905\n",
            "[21]\tvalidation_0-logloss:0.53810\n",
            "[22]\tvalidation_0-logloss:0.53714\n",
            "[23]\tvalidation_0-logloss:0.53670\n",
            "[24]\tvalidation_0-logloss:0.53621\n",
            "[25]\tvalidation_0-logloss:0.53480\n",
            "[26]\tvalidation_0-logloss:0.53429\n",
            "[27]\tvalidation_0-logloss:0.53383\n",
            "[28]\tvalidation_0-logloss:0.53341\n",
            "[29]\tvalidation_0-logloss:0.53313\n",
            "[30]\tvalidation_0-logloss:0.53231\n",
            "[31]\tvalidation_0-logloss:0.53200\n",
            "[32]\tvalidation_0-logloss:0.53142\n",
            "[33]\tvalidation_0-logloss:0.53092\n",
            "[34]\tvalidation_0-logloss:0.53026\n",
            "[35]\tvalidation_0-logloss:0.52975\n",
            "[36]\tvalidation_0-logloss:0.52853\n",
            "[37]\tvalidation_0-logloss:0.52832\n",
            "[38]\tvalidation_0-logloss:0.52807\n",
            "[39]\tvalidation_0-logloss:0.52770\n",
            "[40]\tvalidation_0-logloss:0.52727\n",
            "[41]\tvalidation_0-logloss:0.52709\n",
            "[42]\tvalidation_0-logloss:0.52681\n",
            "[43]\tvalidation_0-logloss:0.52638\n",
            "[44]\tvalidation_0-logloss:0.52608\n",
            "[45]\tvalidation_0-logloss:0.52597\n",
            "[46]\tvalidation_0-logloss:0.52557\n",
            "[47]\tvalidation_0-logloss:0.52513\n",
            "[48]\tvalidation_0-logloss:0.52484\n",
            "[49]\tvalidation_0-logloss:0.52472\n",
            "[50]\tvalidation_0-logloss:0.52460\n",
            "[51]\tvalidation_0-logloss:0.52421\n",
            "[52]\tvalidation_0-logloss:0.52412\n",
            "[53]\tvalidation_0-logloss:0.52401\n",
            "[54]\tvalidation_0-logloss:0.52377\n",
            "[55]\tvalidation_0-logloss:0.52306\n",
            "[56]\tvalidation_0-logloss:0.52290\n",
            "[57]\tvalidation_0-logloss:0.52265\n",
            "[58]\tvalidation_0-logloss:0.52250\n",
            "[59]\tvalidation_0-logloss:0.52233\n",
            "[60]\tvalidation_0-logloss:0.52192\n",
            "[61]\tvalidation_0-logloss:0.52169\n",
            "[62]\tvalidation_0-logloss:0.52149\n",
            "[63]\tvalidation_0-logloss:0.52148\n",
            "[64]\tvalidation_0-logloss:0.52142\n",
            "[65]\tvalidation_0-logloss:0.52130\n",
            "[66]\tvalidation_0-logloss:0.52124\n",
            "[67]\tvalidation_0-logloss:0.52117\n",
            "[68]\tvalidation_0-logloss:0.52098\n",
            "[69]\tvalidation_0-logloss:0.52091\n",
            "[70]\tvalidation_0-logloss:0.52081\n",
            "[71]\tvalidation_0-logloss:0.52078\n",
            "[72]\tvalidation_0-logloss:0.52078\n",
            "[73]\tvalidation_0-logloss:0.52078\n",
            "[74]\tvalidation_0-logloss:0.52075\n",
            "[75]\tvalidation_0-logloss:0.52049\n",
            "[76]\tvalidation_0-logloss:0.52035\n",
            "[77]\tvalidation_0-logloss:0.52024\n",
            "[78]\tvalidation_0-logloss:0.52013\n",
            "[79]\tvalidation_0-logloss:0.52008\n",
            "[80]\tvalidation_0-logloss:0.51997\n",
            "[81]\tvalidation_0-logloss:0.51985\n",
            "[82]\tvalidation_0-logloss:0.51985\n",
            "[83]\tvalidation_0-logloss:0.51986\n",
            "[84]\tvalidation_0-logloss:0.51970\n",
            "[85]\tvalidation_0-logloss:0.51928\n",
            "[86]\tvalidation_0-logloss:0.51912\n",
            "[87]\tvalidation_0-logloss:0.51911\n",
            "[88]\tvalidation_0-logloss:0.51907\n",
            "[89]\tvalidation_0-logloss:0.51906\n",
            "[90]\tvalidation_0-logloss:0.51908\n",
            "[91]\tvalidation_0-logloss:0.51906\n",
            "[92]\tvalidation_0-logloss:0.51895\n",
            "[93]\tvalidation_0-logloss:0.51859\n",
            "[94]\tvalidation_0-logloss:0.51855\n",
            "[95]\tvalidation_0-logloss:0.51853\n",
            "[96]\tvalidation_0-logloss:0.51855\n",
            "[97]\tvalidation_0-logloss:0.51854\n",
            "[98]\tvalidation_0-logloss:0.51854\n",
            "[99]\tvalidation_0-logloss:0.51857\n",
            "Accuracy Score: 0.7380666666666666\n",
            "Confusion Matrix\n",
            "[[50301 20160]\n",
            " [19130 60409]]\n"
          ]
        }
      ]
    },
    {
      "cell_type": "markdown",
      "source": [
        "# **Neural Networks**"
      ],
      "metadata": {
        "id": "E92qxEip-BUm"
      }
    },
    {
      "cell_type": "code",
      "source": [
        "from keras.callbacks import EarlyStopping, ModelCheckpoint\n",
        "\n",
        "X_train, X_test, y_train, y_test = train_test_split(X, y, test_size=0.3, random_state=42)\n",
        "\n",
        "early_stopping = EarlyStopping(monitor='val_loss', patience=5)\n",
        "model_checkpoint = ModelCheckpoint('best_model.h5', save_best_only=True, save_weights_only=True)\n",
        "\n",
        "# print(np.isnan(X_train).any())\n",
        "# print(np.isnan(y_train).any())\n",
        "# print(np.isnan(X_test).any())\n",
        "# print(np.isnan(y_test).any())\n",
        "\n",
        "model = Sequential([Dense(28, activation=\"sigmoid\"),\n",
        "                    Dense(14, activation=\"sigmoid\"),\n",
        "                    Dense(8, activation=\"sigmoid\"),\n",
        "                    # Dense(80, activation=\"sigmoid\"),\n",
        "                    # Dense(50, activation=\"sigmoid\"),\n",
        "                    # Dense(20, activation=\"sigmoid\"),\n",
        "                    # Dense(8, activation=\"sigmoid\"),\n",
        "                    Dense(1, activation=\"sigmoid\")\n",
        "                  ])\n",
        "\n",
        "model.compile(optimizer='adam', loss='binary_crossentropy', metrics=['accuracy'])\n",
        "\n",
        "model.fit(X_train, y_train, epochs=3, callbacks=[early_stopping, model_checkpoint])\n",
        "\n",
        "model.evaluate(X_test,  y_test, verbose=2)\n",
        "\n",
        "# model.load_weights('best_model.h5')\n",
        "\n",
        "# y_pred = model.predict(X_test)\n",
        "\n",
        "# accuracy = Accuracy()\n",
        "# accuracy.update_state(y_test, y_pred)\n",
        "# accuracy.result().numpy()\n",
        "\n",
        "# print(\"Accuracy:\", accuracy)\n",
        "# print(\"Prediction:\", y_pred)"
      ],
      "metadata": {
        "colab": {
          "base_uri": "https://localhost:8080/"
        },
        "id": "tb5tlxGo-AkB",
        "outputId": "817515ba-8c4b-45fb-8126-3e262fde7eef"
      },
      "execution_count": null,
      "outputs": [
        {
          "output_type": "stream",
          "name": "stdout",
          "text": [
            "Epoch 1/3\n",
            "13118/13125 [============================>.] - ETA: 0s - loss: 0.6466 - accuracy: 0.6196"
          ]
        },
        {
          "output_type": "stream",
          "name": "stderr",
          "text": [
            "WARNING:tensorflow:Early stopping conditioned on metric `val_loss` which is not available. Available metrics are: loss,accuracy\n",
            "WARNING:tensorflow:Can save best model only with val_loss available, skipping.\n"
          ]
        },
        {
          "output_type": "stream",
          "name": "stdout",
          "text": [
            "\b\b\b\b\b\b\b\b\b\b\b\b\b\b\b\b\b\b\b\b\b\b\b\b\b\b\b\b\b\b\b\b\b\b\b\b\b\b\b\b\b\b\b\b\b\b\b\b\b\b\b\b\b\b\b\b\b\b\b\b\b\b\b\b\b\b\b\b\b\b\b\b\b\b\b\b\b\b\b\b\b\b\b\b\b\b\b\b\r13125/13125 [==============================] - 30s 2ms/step - loss: 0.6466 - accuracy: 0.6197\n",
            "Epoch 2/3\n",
            "13111/13125 [============================>.] - ETA: 0s - loss: 0.6238 - accuracy: 0.6521"
          ]
        },
        {
          "output_type": "stream",
          "name": "stderr",
          "text": [
            "WARNING:tensorflow:Early stopping conditioned on metric `val_loss` which is not available. Available metrics are: loss,accuracy\n",
            "WARNING:tensorflow:Can save best model only with val_loss available, skipping.\n"
          ]
        },
        {
          "output_type": "stream",
          "name": "stdout",
          "text": [
            "\b\b\b\b\b\b\b\b\b\b\b\b\b\b\b\b\b\b\b\b\b\b\b\b\b\b\b\b\b\b\b\b\b\b\b\b\b\b\b\b\b\b\b\b\b\b\b\b\b\b\b\b\b\b\b\b\b\b\b\b\b\b\b\b\b\b\b\b\b\b\b\b\b\b\b\b\b\b\b\b\b\b\b\b\b\b\b\b\r13125/13125 [==============================] - 29s 2ms/step - loss: 0.6238 - accuracy: 0.6520\n",
            "Epoch 3/3\n",
            "13122/13125 [============================>.] - ETA: 0s - loss: 0.6085 - accuracy: 0.6689"
          ]
        },
        {
          "output_type": "stream",
          "name": "stderr",
          "text": [
            "WARNING:tensorflow:Early stopping conditioned on metric `val_loss` which is not available. Available metrics are: loss,accuracy\n",
            "WARNING:tensorflow:Can save best model only with val_loss available, skipping.\n"
          ]
        },
        {
          "output_type": "stream",
          "name": "stdout",
          "text": [
            "\b\b\b\b\b\b\b\b\b\b\b\b\b\b\b\b\b\b\b\b\b\b\b\b\b\b\b\b\b\b\b\b\b\b\b\b\b\b\b\b\b\b\b\b\b\b\b\b\b\b\b\b\b\b\b\b\b\b\b\b\b\b\b\b\b\b\b\b\b\b\b\b\b\b\b\b\b\b\b\b\b\b\b\b\b\b\b\b\r13125/13125 [==============================] - 30s 2ms/step - loss: 0.6085 - accuracy: 0.6689\n",
            "5625/5625 - 8s - loss: nan - accuracy: 0.6800 - 8s/epoch - 1ms/step\n"
          ]
        },
        {
          "output_type": "execute_result",
          "data": {
            "text/plain": [
              "[nan, 0.6799555420875549]"
            ]
          },
          "metadata": {},
          "execution_count": 15
        }
      ]
    }
  ]
}