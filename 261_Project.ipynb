{
  "nbformat": 4,
  "nbformat_minor": 0,
  "metadata": {
    "colab": {
      "provenance": []
    },
    "kernelspec": {
      "name": "python3",
      "display_name": "Python 3"
    },
    "language_info": {
      "name": "python"
    }
  },
  "cells": [
    {
      "cell_type": "code",
      "source": [
        "import pandas as pd\n",
        "import numpy as np\n",
        "from sklearn.linear_model import LogisticRegression\n",
        "from sklearn.model_selection import train_test_split\n",
        "from sklearn.impute import SimpleImputer\n",
        "from sklearn.metrics import accuracy_score\n",
        "from sklearn.model_selection import cross_val_score"
      ],
      "metadata": {
        "id": "H376hfkon4Bi"
      },
      "execution_count": null,
      "outputs": []
    },
    {
      "cell_type": "code",
      "execution_count": null,
      "metadata": {
        "id": "nGVZMzRFOW5T",
        "colab": {
          "base_uri": "https://localhost:8080/"
        },
        "outputId": "e57291a9-b3a9-4425-ad3b-1b8ff948aeed"
      },
      "outputs": [
        {
          "output_type": "stream",
          "name": "stderr",
          "text": [
            "<ipython-input-5-515a8d45932e>:3: DtypeWarning: Columns (8,21) have mixed types. Specify dtype option on import or set low_memory=False.\n",
            "  data = pd.read_csv('drive/MyDrive/HIGGS_train.csv', header=None)\n"
          ]
        }
      ],
      "source": [
        "# Load the dataset\n",
        "# header=None prevents the first row from becoming column names\n",
        "data = pd.read_csv('drive/MyDrive/HIGGS_train.csv', header=None)\n",
        "# columns=['0','1','2','3','4','5','6','7','8','9','10','11','12','13','14','15','16','17','18','19','20','21','22','23','24','25','26','27','28',]"
      ]
    },
    {
      "cell_type": "code",
      "source": [
        "# print(data[8])\n",
        "# print(data.head())\n",
        "# data[data.iloc[:, 1:] > 70] \n",
        "data=data.select_dtypes(include=['float64'])\n",
        "data=data.select_dtypes(exclude=['object'])\n",
        "\n",
        "# data=data.fillna(0)\n",
        "data=data.dropna()"
      ],
      "metadata": {
        "id": "iJKgz8_5n2o4",
        "colab": {
          "base_uri": "https://localhost:8080/"
        },
        "outputId": "c42b63dc-add1-4594-fe03-bf4911b7341c"
      },
      "execution_count": null,
      "outputs": [
        {
          "output_type": "stream",
          "name": "stdout",
          "text": [
            "600000\n",
            "600000\n"
          ]
        }
      ]
    },
    {
      "cell_type": "code",
      "source": [
        "# Separate the target variable and input features\n",
        "X = data.iloc[:, 1:]\n",
        "y = data.iloc[:, 0]\n",
        "\n",
        "# Split the data into training and testing sets\n",
        "X_train, X_test, y_train, y_test = train_test_split(X, y, test_size=0.3, random_state=42)\n",
        "\n",
        "# Handle the missing values using Imputer\n",
        "imputer = SimpleImputer(missing_values=np.nan, strategy='mean')\n",
        "X_train = imputer.fit_transform(X_train)\n",
        "X_test = imputer.transform(X_test)\n",
        "\n",
        "# Create a logistic regression model\n",
        "model = LogisticRegression()\n",
        "\n",
        "# Train the model\n",
        "model.fit(X_train, y_train)\n",
        "\n",
        "# Predict the target variable for the testing data\n",
        "y_pred = model.predict(X_test)\n",
        "\n",
        "# Evaluate the performance of the model\n",
        "accuracy = accuracy_score(y_test, y_pred)\n",
        "print(\"Accuracy:\", accuracy)\n",
        "print(cross_val_score(model, X, y, cv=5))\n",
        "\n",
        "# Accuracy: 0.6412722222222222\n",
        "# [0.63906667 0.64083333 0.64368333 0.63920833 0.64088333]"
      ],
      "metadata": {
        "colab": {
          "base_uri": "https://localhost:8080/"
        },
        "id": "5NqDXUnJn-k4",
        "outputId": "9b797609-e2a8-487d-deb1-164022f30a9a"
      },
      "execution_count": null,
      "outputs": [
        {
          "output_type": "stream",
          "name": "stdout",
          "text": [
            "Accuracy: 0.6412722222222222\n",
            "[0.63906667 0.64083333 0.64368333 0.63920833 0.64088333]\n"
          ]
        }
      ]
    }
  ]
}