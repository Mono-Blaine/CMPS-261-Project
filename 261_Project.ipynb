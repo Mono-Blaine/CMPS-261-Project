{
  "cells": [
    {
      "cell_type": "markdown",
      "metadata": {
        "id": "view-in-github",
        "colab_type": "text"
      },
      "source": [
        "<a href=\"https://colab.research.google.com/github/Mono-Blaine/CMPS-261-Project/blob/master/261_Project.ipynb\" target=\"_parent\"><img src=\"https://colab.research.google.com/assets/colab-badge.svg\" alt=\"Open In Colab\"/></a>"
      ]
    },
    {
      "cell_type": "markdown",
      "source": [
        "[**Project Report**](https://docs.google.com/document/d/1kdt_Gwlm092zZtha0MnsCirp9Ucq2tv5pBMw6JEfFOg/edit?usp=sharing)"
      ],
      "metadata": {
        "id": "LXYV4tWka0Q1"
      }
    },
    {
      "cell_type": "code",
      "execution_count": 1,
      "metadata": {
        "id": "H376hfkon4Bi"
      },
      "outputs": [],
      "source": [
        "import pandas as pd\n",
        "import numpy as np\n",
        "\n",
        "from sklearn.linear_model import LogisticRegression\n",
        "from xgboost import XGBClassifier\n",
        "\n",
        "from sklearn.model_selection import train_test_split\n",
        "from sklearn.metrics import confusion_matrix\n",
        "from sklearn.model_selection import cross_val_score, KFold\n",
        "\n",
        "from sklearn.preprocessing import StandardScaler\n",
        "from sklearn.impute import SimpleImputer\n",
        "\n",
        "from keras import Sequential\n",
        "from tensorflow.keras.layers import Dense\n",
        "from tensorflow.keras.optimizers import Adam\n",
        "\n",
        "from tensorflow.keras.metrics import Accuracy\n",
        "\n",
        "from tensorflow.keras.callbacks import ModelCheckpoint"
      ]
    },
    {
      "cell_type": "code",
      "execution_count": 2,
      "metadata": {
        "colab": {
          "base_uri": "https://localhost:8080/"
        },
        "id": "nGVZMzRFOW5T",
        "outputId": "eded508b-28ed-468a-e12f-94a8c7f96916"
      },
      "outputs": [
        {
          "output_type": "stream",
          "name": "stderr",
          "text": [
            "<ipython-input-2-27c2f706f39b>:3: DtypeWarning: Columns (8,21) have mixed types. Specify dtype option on import or set low_memory=False.\n",
            "  data = pd.read_csv('drive/MyDrive/HIGGS_train.csv', header=None)\n"
          ]
        }
      ],
      "source": [
        "# load the dataset\n",
        "# header=None prevents the first row from becoming column names\n",
        "data = pd.read_csv('drive/MyDrive/HIGGS_train.csv', header=None)"
      ]
    },
    {
      "cell_type": "markdown",
      "metadata": {
        "id": "_Js7tzxfm7uG"
      },
      "source": [
        "# **Preprocessing**"
      ]
    },
    {
      "cell_type": "markdown",
      "metadata": {
        "id": "4yICHjd0LZ4V"
      },
      "source": [
        "**Dirty Data:**\n",
        "* 490960V: error\n",
        "* 490961V: s\n",
        "* 261027I: \"1.01\""
      ]
    },
    {
      "cell_type": "code",
      "execution_count": 3,
      "metadata": {
        "colab": {
          "base_uri": "https://localhost:8080/"
        },
        "id": "iJKgz8_5n2o4",
        "outputId": "3d416efc-4189-4272-b3c0-5083193665df"
      },
      "outputs": [
        {
          "output_type": "stream",
          "name": "stdout",
          "text": [
            "(600000, 29)\n",
            "(600000, 29)\n"
          ]
        }
      ],
      "source": [
        "# removes rows that aren't of type float. however, removes a lot so something wrong may be happening\n",
        "# for i in range(29):\n",
        "#     data = data[[not isinstance(value, str) for value in data[i]]]\n",
        "#     data = data[[isinstance(value, float) for value in data[i]]]\n",
        "\n",
        "# removes columns that aren't all float\n",
        "# data2=data2.select_dtypes(include=['float64'])\n",
        "# data2=data2.select_dtypes(exclude=['object'])\n",
        "\n",
        "print(data.shape)\n",
        "\n",
        "def filter(value):\n",
        "    if isinstance(value, str) and not value.isnumeric():\n",
        "        try:\n",
        "            return float(value.replace('\"','').replace('\\'',''))\n",
        "        except:\n",
        "            return 0;\n",
        "    return value\n",
        "\n",
        "data = data.applymap(filter)\n",
        "\n",
        "print(data.shape)\n",
        "\n",
        "# get features\n",
        "X = data.iloc[:, 1:]\n",
        "# get output\n",
        "y = data.iloc[:, 0]\n",
        "\n",
        "X_train, X_test, y_train, y_test = train_test_split(X, y, test_size=0.3, random_state=42)"
      ]
    },
    {
      "cell_type": "markdown",
      "metadata": {
        "id": "GQ8tAHZYo83-"
      },
      "source": [
        "# **Logistic Regression**"
      ]
    },
    {
      "cell_type": "code",
      "execution_count": null,
      "metadata": {
        "colab": {
          "base_uri": "https://localhost:8080/"
        },
        "id": "5NqDXUnJn-k4",
        "outputId": "68d8b290-a2db-4e27-8559-d0e11ed3b485"
      },
      "outputs": [
        {
          "name": "stdout",
          "output_type": "stream",
          "text": [
            "(420000, 28)\n",
            "Accuracy: 0.6420166666666667\n"
          ]
        }
      ],
      "source": [
        "# scales features\n",
        "# result = (value - mean) / standardDeviation\n",
        "sc = StandardScaler()\n",
        "X_train = sc.fit_transform(X_train)\n",
        "X_test = sc.transform(X_test)\n",
        "\n",
        "# fills missing values, if any\n",
        "imp = SimpleImputer(missing_values=np.nan, strategy='most_frequent')\n",
        "X_train = imp.fit_transform(X_train)\n",
        "X_test = imp.fit_transform(X_test)\n",
        "\n",
        "# create the model\n",
        "model = LogisticRegression(max_iter=10000,  penalty='l2', solver='lbfgs')\n",
        "\n",
        "# training\n",
        "model.fit(X_train, y_train)\n",
        "\n",
        "# predict the result of testing data\n",
        "y_pred = model.predict(X_test)\n",
        "\n",
        "# check model performance\n",
        "accuracy = accuracy_score(y_test, y_pred)\n",
        "print(\"Accuracy:\", accuracy)\n",
        "# print(cross_val_score(model, X, y, cv=5, error_score='raise'))\n",
        "# Accuracy: 0.6420222222222223"
      ]
    },
    {
      "cell_type": "markdown",
      "metadata": {
        "id": "r9bKvDh7nBAV"
      },
      "source": [
        "# **XGBoost**"
      ]
    },
    {
      "cell_type": "code",
      "execution_count": null,
      "metadata": {
        "colab": {
          "base_uri": "https://localhost:8080/"
        },
        "id": "LgseyH1CmRUe",
        "outputId": "7682a6e1-e9c8-4a17-ecb3-bdf308e8a51c"
      },
      "outputs": [
        {
          "output_type": "stream",
          "name": "stdout",
          "text": [
            "[0]\tvalidation_0-logloss:0.65261\n",
            "[1]\tvalidation_0-logloss:0.62713\n",
            "[2]\tvalidation_0-logloss:0.60944\n",
            "[3]\tvalidation_0-logloss:0.59720\n",
            "[4]\tvalidation_0-logloss:0.58707\n",
            "[5]\tvalidation_0-logloss:0.57900\n",
            "[6]\tvalidation_0-logloss:0.57244\n",
            "[7]\tvalidation_0-logloss:0.56699\n",
            "[8]\tvalidation_0-logloss:0.56237\n",
            "[9]\tvalidation_0-logloss:0.55932\n",
            "[10]\tvalidation_0-logloss:0.55632\n",
            "[11]\tvalidation_0-logloss:0.55335\n",
            "[12]\tvalidation_0-logloss:0.55115\n",
            "[13]\tvalidation_0-logloss:0.54916\n",
            "[14]\tvalidation_0-logloss:0.54732\n",
            "[15]\tvalidation_0-logloss:0.54549\n",
            "[16]\tvalidation_0-logloss:0.54428\n",
            "[17]\tvalidation_0-logloss:0.54273\n",
            "[18]\tvalidation_0-logloss:0.54153\n",
            "[19]\tvalidation_0-logloss:0.54001\n",
            "[20]\tvalidation_0-logloss:0.53905\n",
            "[21]\tvalidation_0-logloss:0.53810\n",
            "[22]\tvalidation_0-logloss:0.53714\n",
            "[23]\tvalidation_0-logloss:0.53670\n",
            "[24]\tvalidation_0-logloss:0.53621\n",
            "[25]\tvalidation_0-logloss:0.53480\n",
            "[26]\tvalidation_0-logloss:0.53429\n",
            "[27]\tvalidation_0-logloss:0.53383\n",
            "[28]\tvalidation_0-logloss:0.53341\n",
            "[29]\tvalidation_0-logloss:0.53313\n",
            "[30]\tvalidation_0-logloss:0.53231\n",
            "[31]\tvalidation_0-logloss:0.53200\n",
            "[32]\tvalidation_0-logloss:0.53142\n",
            "[33]\tvalidation_0-logloss:0.53092\n",
            "[34]\tvalidation_0-logloss:0.53026\n",
            "[35]\tvalidation_0-logloss:0.52975\n",
            "[36]\tvalidation_0-logloss:0.52853\n",
            "[37]\tvalidation_0-logloss:0.52832\n",
            "[38]\tvalidation_0-logloss:0.52807\n",
            "[39]\tvalidation_0-logloss:0.52770\n",
            "[40]\tvalidation_0-logloss:0.52727\n",
            "[41]\tvalidation_0-logloss:0.52709\n",
            "[42]\tvalidation_0-logloss:0.52681\n",
            "[43]\tvalidation_0-logloss:0.52638\n",
            "[44]\tvalidation_0-logloss:0.52608\n",
            "[45]\tvalidation_0-logloss:0.52597\n",
            "[46]\tvalidation_0-logloss:0.52557\n",
            "[47]\tvalidation_0-logloss:0.52513\n",
            "[48]\tvalidation_0-logloss:0.52484\n",
            "[49]\tvalidation_0-logloss:0.52472\n",
            "[50]\tvalidation_0-logloss:0.52460\n",
            "[51]\tvalidation_0-logloss:0.52421\n",
            "[52]\tvalidation_0-logloss:0.52412\n",
            "[53]\tvalidation_0-logloss:0.52401\n",
            "[54]\tvalidation_0-logloss:0.52377\n",
            "[55]\tvalidation_0-logloss:0.52306\n",
            "[56]\tvalidation_0-logloss:0.52290\n",
            "[57]\tvalidation_0-logloss:0.52265\n",
            "[58]\tvalidation_0-logloss:0.52250\n",
            "[59]\tvalidation_0-logloss:0.52233\n",
            "[60]\tvalidation_0-logloss:0.52192\n",
            "[61]\tvalidation_0-logloss:0.52169\n",
            "[62]\tvalidation_0-logloss:0.52149\n",
            "[63]\tvalidation_0-logloss:0.52148\n",
            "[64]\tvalidation_0-logloss:0.52142\n",
            "[65]\tvalidation_0-logloss:0.52130\n",
            "[66]\tvalidation_0-logloss:0.52124\n",
            "[67]\tvalidation_0-logloss:0.52117\n",
            "[68]\tvalidation_0-logloss:0.52098\n",
            "[69]\tvalidation_0-logloss:0.52091\n",
            "[70]\tvalidation_0-logloss:0.52081\n",
            "[71]\tvalidation_0-logloss:0.52078\n",
            "[72]\tvalidation_0-logloss:0.52078\n",
            "[73]\tvalidation_0-logloss:0.52078\n",
            "[74]\tvalidation_0-logloss:0.52075\n",
            "[75]\tvalidation_0-logloss:0.52049\n",
            "[76]\tvalidation_0-logloss:0.52035\n",
            "[77]\tvalidation_0-logloss:0.52024\n",
            "[78]\tvalidation_0-logloss:0.52013\n",
            "[79]\tvalidation_0-logloss:0.52008\n",
            "[80]\tvalidation_0-logloss:0.51997\n",
            "[81]\tvalidation_0-logloss:0.51985\n",
            "[82]\tvalidation_0-logloss:0.51985\n",
            "[83]\tvalidation_0-logloss:0.51986\n",
            "[84]\tvalidation_0-logloss:0.51970\n",
            "[85]\tvalidation_0-logloss:0.51928\n",
            "[86]\tvalidation_0-logloss:0.51912\n",
            "[87]\tvalidation_0-logloss:0.51911\n",
            "[88]\tvalidation_0-logloss:0.51907\n",
            "[89]\tvalidation_0-logloss:0.51906\n",
            "[90]\tvalidation_0-logloss:0.51908\n",
            "[91]\tvalidation_0-logloss:0.51906\n",
            "[92]\tvalidation_0-logloss:0.51895\n",
            "[93]\tvalidation_0-logloss:0.51859\n",
            "[94]\tvalidation_0-logloss:0.51855\n",
            "[95]\tvalidation_0-logloss:0.51853\n",
            "[96]\tvalidation_0-logloss:0.51855\n",
            "[97]\tvalidation_0-logloss:0.51854\n",
            "[98]\tvalidation_0-logloss:0.51854\n",
            "[99]\tvalidation_0-logloss:0.51857\n",
            "Accuracy Score: 0.7380666666666666\n",
            "Confusion Matrix\n",
            "[[50301 20160]\n",
            " [19130 60409]]\n",
            "K-fold CV average score: 0.73\n"
          ]
        }
      ],
      "source": [
        "# create the XGBoost model\n",
        "model = XGBClassifier(objective=\"binary:logistic\",\n",
        "                      random_state=42,\n",
        "                      max_depth=6, # 0.7380666666666666\n",
        "                      learning_rate=0.25)\n",
        "\n",
        "# train the model\n",
        "model.fit(X_train, y_train, eval_set=[(X_test, y_test)])\n",
        "\n",
        "# predict the result of testing data\n",
        "y_pred = model.predict(X_test)\n",
        "\n",
        "# check model performance\n",
        "print(\"Accuracy Score:\", accuracy_score(y_test, y_pred))\n",
        "\n",
        "# do K-fold (5-fold) cross-validation\n",
        "kfold = KFold(n_splits=5, shuffle=True)\n",
        "kf_cv_scores = cross_val_score(model, X_train, y_train, cv=kfold )\n",
        "print(\"K-fold CV average score: %.2f\" % kf_cv_scores.mean())"
      ]
    },
    {
      "cell_type": "markdown",
      "metadata": {
        "id": "E92qxEip-BUm"
      },
      "source": [
        "# **Neural Networks**"
      ]
    },
    {
      "cell_type": "code",
      "execution_count": 4,
      "metadata": {
        "colab": {
          "base_uri": "https://localhost:8080/"
        },
        "id": "tb5tlxGo-AkB",
        "outputId": "76b27d5d-e03c-4221-ea66-fb74f99e16d9"
      },
      "outputs": [
        {
          "output_type": "stream",
          "name": "stdout",
          "text": [
            "Epoch 1/50\n",
            "13117/13125 [============================>.] - ETA: 0s - loss: 0.6050 - accuracy: 0.6662\n",
            "Epoch 1: accuracy improved from -inf to 0.66615, saving model to best_model.h5\n",
            "13125/13125 [==============================] - 42s 3ms/step - loss: 0.6050 - accuracy: 0.6662\n",
            "Epoch 2/50\n",
            "13109/13125 [============================>.] - ETA: 0s - loss: 0.5722 - accuracy: 0.6978\n",
            "Epoch 2: accuracy improved from 0.66615 to 0.69784, saving model to best_model.h5\n",
            "13125/13125 [==============================] - 41s 3ms/step - loss: 0.5721 - accuracy: 0.6978\n",
            "Epoch 3/50\n",
            "13122/13125 [============================>.] - ETA: 0s - loss: 0.5557 - accuracy: 0.7119\n",
            "Epoch 3: accuracy improved from 0.69784 to 0.71189, saving model to best_model.h5\n",
            "13125/13125 [==============================] - 46s 3ms/step - loss: 0.5557 - accuracy: 0.7119\n",
            "Epoch 4/50\n",
            "13117/13125 [============================>.] - ETA: 0s - loss: 0.5441 - accuracy: 0.7206\n",
            "Epoch 4: accuracy improved from 0.71189 to 0.72058, saving model to best_model.h5\n",
            "13125/13125 [==============================] - 43s 3ms/step - loss: 0.5441 - accuracy: 0.7206\n",
            "Epoch 5/50\n",
            "13117/13125 [============================>.] - ETA: 0s - loss: 0.5353 - accuracy: 0.7266\n",
            "Epoch 5: accuracy improved from 0.72058 to 0.72662, saving model to best_model.h5\n",
            "13125/13125 [==============================] - 39s 3ms/step - loss: 0.5353 - accuracy: 0.7266\n",
            "Epoch 6/50\n",
            "13123/13125 [============================>.] - ETA: 0s - loss: 0.5291 - accuracy: 0.7318\n",
            "Epoch 6: accuracy improved from 0.72662 to 0.73178, saving model to best_model.h5\n",
            "13125/13125 [==============================] - 40s 3ms/step - loss: 0.5291 - accuracy: 0.7318\n",
            "Epoch 7/50\n",
            "13115/13125 [============================>.] - ETA: 0s - loss: 0.5230 - accuracy: 0.7358\n",
            "Epoch 7: accuracy improved from 0.73178 to 0.73579, saving model to best_model.h5\n",
            "13125/13125 [==============================] - 40s 3ms/step - loss: 0.5230 - accuracy: 0.7358\n",
            "Epoch 8/50\n",
            "13125/13125 [==============================] - ETA: 0s - loss: 0.5181 - accuracy: 0.7389\n",
            "Epoch 8: accuracy improved from 0.73579 to 0.73890, saving model to best_model.h5\n",
            "13125/13125 [==============================] - 38s 3ms/step - loss: 0.5181 - accuracy: 0.7389\n",
            "Epoch 9/50\n",
            "13108/13125 [============================>.] - ETA: 0s - loss: 0.5142 - accuracy: 0.7413\n",
            "Epoch 9: accuracy improved from 0.73890 to 0.74128, saving model to best_model.h5\n",
            "13125/13125 [==============================] - 40s 3ms/step - loss: 0.5142 - accuracy: 0.7413\n",
            "Epoch 10/50\n",
            "13112/13125 [============================>.] - ETA: 0s - loss: 0.5109 - accuracy: 0.7440\n",
            "Epoch 10: accuracy improved from 0.74128 to 0.74401, saving model to best_model.h5\n",
            "13125/13125 [==============================] - 40s 3ms/step - loss: 0.5109 - accuracy: 0.7440\n",
            "Epoch 11/50\n",
            "13117/13125 [============================>.] - ETA: 0s - loss: 0.5077 - accuracy: 0.7457\n",
            "Epoch 11: accuracy improved from 0.74401 to 0.74574, saving model to best_model.h5\n",
            "13125/13125 [==============================] - 39s 3ms/step - loss: 0.5076 - accuracy: 0.7457\n",
            "Epoch 12/50\n",
            "13119/13125 [============================>.] - ETA: 0s - loss: 0.5044 - accuracy: 0.7482\n",
            "Epoch 12: accuracy improved from 0.74574 to 0.74820, saving model to best_model.h5\n",
            "13125/13125 [==============================] - 41s 3ms/step - loss: 0.5044 - accuracy: 0.7482\n",
            "Epoch 13/50\n",
            "13110/13125 [============================>.] - ETA: 0s - loss: 0.5016 - accuracy: 0.7503\n",
            "Epoch 13: accuracy improved from 0.74820 to 0.75038, saving model to best_model.h5\n",
            "13125/13125 [==============================] - 41s 3ms/step - loss: 0.5016 - accuracy: 0.7504\n",
            "Epoch 14/50\n",
            "13115/13125 [============================>.] - ETA: 0s - loss: 0.4991 - accuracy: 0.7519\n",
            "Epoch 14: accuracy improved from 0.75038 to 0.75193, saving model to best_model.h5\n",
            "13125/13125 [==============================] - 41s 3ms/step - loss: 0.4991 - accuracy: 0.7519\n",
            "Epoch 15/50\n",
            "13125/13125 [==============================] - ETA: 0s - loss: 0.4969 - accuracy: 0.7535\n",
            "Epoch 15: accuracy improved from 0.75193 to 0.75347, saving model to best_model.h5\n",
            "13125/13125 [==============================] - 38s 3ms/step - loss: 0.4969 - accuracy: 0.7535\n",
            "Epoch 16/50\n",
            "13109/13125 [============================>.] - ETA: 0s - loss: 0.4948 - accuracy: 0.7546\n",
            "Epoch 16: accuracy improved from 0.75347 to 0.75456, saving model to best_model.h5\n",
            "13125/13125 [==============================] - 39s 3ms/step - loss: 0.4948 - accuracy: 0.7546\n",
            "Epoch 17/50\n",
            "13107/13125 [============================>.] - ETA: 0s - loss: 0.4925 - accuracy: 0.7558\n",
            "Epoch 17: accuracy improved from 0.75456 to 0.75575, saving model to best_model.h5\n",
            "13125/13125 [==============================] - 40s 3ms/step - loss: 0.4925 - accuracy: 0.7557\n",
            "Epoch 18/50\n",
            "13117/13125 [============================>.] - ETA: 0s - loss: 0.4906 - accuracy: 0.7570\n",
            "Epoch 18: accuracy improved from 0.75575 to 0.75693, saving model to best_model.h5\n",
            "13125/13125 [==============================] - 38s 3ms/step - loss: 0.4906 - accuracy: 0.7569\n",
            "Epoch 19/50\n",
            "13124/13125 [============================>.] - ETA: 0s - loss: 0.4886 - accuracy: 0.7580\n",
            "Epoch 19: accuracy improved from 0.75693 to 0.75798, saving model to best_model.h5\n",
            "13125/13125 [==============================] - 40s 3ms/step - loss: 0.4886 - accuracy: 0.7580\n",
            "Epoch 20/50\n",
            "13125/13125 [==============================] - ETA: 0s - loss: 0.4870 - accuracy: 0.7592\n",
            "Epoch 20: accuracy improved from 0.75798 to 0.75917, saving model to best_model.h5\n",
            "13125/13125 [==============================] - 40s 3ms/step - loss: 0.4870 - accuracy: 0.7592\n",
            "Epoch 21/50\n",
            "13125/13125 [==============================] - ETA: 0s - loss: 0.4855 - accuracy: 0.7605\n",
            "Epoch 21: accuracy improved from 0.75917 to 0.76045, saving model to best_model.h5\n",
            "13125/13125 [==============================] - 39s 3ms/step - loss: 0.4855 - accuracy: 0.7605\n",
            "Epoch 22/50\n",
            "13107/13125 [============================>.] - ETA: 0s - loss: 0.4837 - accuracy: 0.7617\n",
            "Epoch 22: accuracy improved from 0.76045 to 0.76170, saving model to best_model.h5\n",
            "13125/13125 [==============================] - 39s 3ms/step - loss: 0.4837 - accuracy: 0.7617\n",
            "Epoch 23/50\n",
            "13124/13125 [============================>.] - ETA: 0s - loss: 0.4820 - accuracy: 0.7628\n",
            "Epoch 23: accuracy improved from 0.76170 to 0.76284, saving model to best_model.h5\n",
            "13125/13125 [==============================] - 40s 3ms/step - loss: 0.4820 - accuracy: 0.7628\n",
            "Epoch 24/50\n",
            "13107/13125 [============================>.] - ETA: 0s - loss: 0.4806 - accuracy: 0.7634\n",
            "Epoch 24: accuracy improved from 0.76284 to 0.76337, saving model to best_model.h5\n",
            "13125/13125 [==============================] - 40s 3ms/step - loss: 0.4805 - accuracy: 0.7634\n",
            "Epoch 25/50\n",
            "13121/13125 [============================>.] - ETA: 0s - loss: 0.4792 - accuracy: 0.7643\n",
            "Epoch 25: accuracy improved from 0.76337 to 0.76426, saving model to best_model.h5\n",
            "13125/13125 [==============================] - 37s 3ms/step - loss: 0.4792 - accuracy: 0.7643\n",
            "Epoch 26/50\n",
            "13114/13125 [============================>.] - ETA: 0s - loss: 0.4778 - accuracy: 0.7652\n",
            "Epoch 26: accuracy improved from 0.76426 to 0.76520, saving model to best_model.h5\n",
            "13125/13125 [==============================] - 39s 3ms/step - loss: 0.4778 - accuracy: 0.7652\n",
            "Epoch 27/50\n",
            "13121/13125 [============================>.] - ETA: 0s - loss: 0.4764 - accuracy: 0.7667\n",
            "Epoch 27: accuracy improved from 0.76520 to 0.76667, saving model to best_model.h5\n",
            "13125/13125 [==============================] - 38s 3ms/step - loss: 0.4764 - accuracy: 0.7667\n",
            "Epoch 28/50\n",
            "13124/13125 [============================>.] - ETA: 0s - loss: 0.4748 - accuracy: 0.7671\n",
            "Epoch 28: accuracy improved from 0.76667 to 0.76707, saving model to best_model.h5\n",
            "13125/13125 [==============================] - 40s 3ms/step - loss: 0.4748 - accuracy: 0.7671\n",
            "Epoch 29/50\n",
            "13108/13125 [============================>.] - ETA: 0s - loss: 0.4738 - accuracy: 0.7681\n",
            "Epoch 29: accuracy improved from 0.76707 to 0.76807, saving model to best_model.h5\n",
            "13125/13125 [==============================] - 39s 3ms/step - loss: 0.4738 - accuracy: 0.7681\n",
            "Epoch 30/50\n",
            "13114/13125 [============================>.] - ETA: 0s - loss: 0.4724 - accuracy: 0.7684\n",
            "Epoch 30: accuracy improved from 0.76807 to 0.76846, saving model to best_model.h5\n",
            "13125/13125 [==============================] - 41s 3ms/step - loss: 0.4723 - accuracy: 0.7685\n",
            "Epoch 31/50\n",
            "13122/13125 [============================>.] - ETA: 0s - loss: 0.4717 - accuracy: 0.7694\n",
            "Epoch 31: accuracy improved from 0.76846 to 0.76942, saving model to best_model.h5\n",
            "13125/13125 [==============================] - 40s 3ms/step - loss: 0.4717 - accuracy: 0.7694\n",
            "Epoch 32/50\n",
            "13118/13125 [============================>.] - ETA: 0s - loss: 0.4705 - accuracy: 0.7704\n",
            "Epoch 32: accuracy improved from 0.76942 to 0.77037, saving model to best_model.h5\n",
            "13125/13125 [==============================] - 40s 3ms/step - loss: 0.4705 - accuracy: 0.7704\n",
            "Epoch 33/50\n",
            "13120/13125 [============================>.] - ETA: 0s - loss: 0.4690 - accuracy: 0.7710\n",
            "Epoch 33: accuracy improved from 0.77037 to 0.77102, saving model to best_model.h5\n",
            "13125/13125 [==============================] - 40s 3ms/step - loss: 0.4689 - accuracy: 0.7710\n",
            "Epoch 34/50\n",
            "13125/13125 [==============================] - ETA: 0s - loss: 0.4681 - accuracy: 0.7718\n",
            "Epoch 34: accuracy improved from 0.77102 to 0.77184, saving model to best_model.h5\n",
            "13125/13125 [==============================] - 40s 3ms/step - loss: 0.4681 - accuracy: 0.7718\n",
            "Epoch 35/50\n",
            "13123/13125 [============================>.] - ETA: 0s - loss: 0.4674 - accuracy: 0.7718\n",
            "Epoch 35: accuracy did not improve from 0.77184\n",
            "13125/13125 [==============================] - 37s 3ms/step - loss: 0.4674 - accuracy: 0.7718\n",
            "Epoch 36/50\n",
            "13116/13125 [============================>.] - ETA: 0s - loss: 0.4660 - accuracy: 0.7733\n",
            "Epoch 36: accuracy improved from 0.77184 to 0.77330, saving model to best_model.h5\n",
            "13125/13125 [==============================] - 39s 3ms/step - loss: 0.4660 - accuracy: 0.7733\n",
            "Epoch 37/50\n",
            "13120/13125 [============================>.] - ETA: 0s - loss: 0.4653 - accuracy: 0.7733\n",
            "Epoch 37: accuracy did not improve from 0.77330\n",
            "13125/13125 [==============================] - 39s 3ms/step - loss: 0.4653 - accuracy: 0.7733\n",
            "Epoch 38/50\n",
            "13110/13125 [============================>.] - ETA: 0s - loss: 0.4641 - accuracy: 0.7733\n",
            "Epoch 38: accuracy improved from 0.77330 to 0.77335, saving model to best_model.h5\n",
            "13125/13125 [==============================] - 39s 3ms/step - loss: 0.4641 - accuracy: 0.7734\n",
            "Epoch 39/50\n",
            "13124/13125 [============================>.] - ETA: 0s - loss: 0.4632 - accuracy: 0.7746\n",
            "Epoch 39: accuracy improved from 0.77335 to 0.77465, saving model to best_model.h5\n",
            "13125/13125 [==============================] - 40s 3ms/step - loss: 0.4632 - accuracy: 0.7746\n",
            "Epoch 40/50\n",
            "13119/13125 [============================>.] - ETA: 0s - loss: 0.4620 - accuracy: 0.7756\n",
            "Epoch 40: accuracy improved from 0.77465 to 0.77559, saving model to best_model.h5\n",
            "13125/13125 [==============================] - 40s 3ms/step - loss: 0.4620 - accuracy: 0.7756\n",
            "Epoch 41/50\n",
            "13113/13125 [============================>.] - ETA: 0s - loss: 0.4618 - accuracy: 0.7752\n",
            "Epoch 41: accuracy did not improve from 0.77559\n",
            "13125/13125 [==============================] - 39s 3ms/step - loss: 0.4618 - accuracy: 0.7752\n",
            "Epoch 42/50\n",
            "13122/13125 [============================>.] - ETA: 0s - loss: 0.4604 - accuracy: 0.7764\n",
            "Epoch 42: accuracy improved from 0.77559 to 0.77640, saving model to best_model.h5\n",
            "13125/13125 [==============================] - 40s 3ms/step - loss: 0.4604 - accuracy: 0.7764\n",
            "Epoch 43/50\n",
            "13112/13125 [============================>.] - ETA: 0s - loss: 0.4598 - accuracy: 0.7768\n",
            "Epoch 43: accuracy improved from 0.77640 to 0.77678, saving model to best_model.h5\n",
            "13125/13125 [==============================] - 40s 3ms/step - loss: 0.4598 - accuracy: 0.7768\n",
            "Epoch 44/50\n",
            "13122/13125 [============================>.] - ETA: 0s - loss: 0.4590 - accuracy: 0.7774\n",
            "Epoch 44: accuracy improved from 0.77678 to 0.77744, saving model to best_model.h5\n",
            "13125/13125 [==============================] - 38s 3ms/step - loss: 0.4590 - accuracy: 0.7774\n",
            "Epoch 45/50\n",
            "13121/13125 [============================>.] - ETA: 0s - loss: 0.4579 - accuracy: 0.7779\n",
            "Epoch 45: accuracy improved from 0.77744 to 0.77786, saving model to best_model.h5\n",
            "13125/13125 [==============================] - 40s 3ms/step - loss: 0.4579 - accuracy: 0.7779\n",
            "Epoch 46/50\n",
            "13123/13125 [============================>.] - ETA: 0s - loss: 0.4569 - accuracy: 0.7779\n",
            "Epoch 46: accuracy improved from 0.77786 to 0.77790, saving model to best_model.h5\n",
            "13125/13125 [==============================] - 40s 3ms/step - loss: 0.4569 - accuracy: 0.7779\n",
            "Epoch 47/50\n",
            "13121/13125 [============================>.] - ETA: 0s - loss: 0.4566 - accuracy: 0.7785\n",
            "Epoch 47: accuracy improved from 0.77790 to 0.77847, saving model to best_model.h5\n",
            "13125/13125 [==============================] - 39s 3ms/step - loss: 0.4566 - accuracy: 0.7785\n",
            "Epoch 48/50\n",
            "13123/13125 [============================>.] - ETA: 0s - loss: 0.4559 - accuracy: 0.7788\n",
            "Epoch 48: accuracy improved from 0.77847 to 0.77883, saving model to best_model.h5\n",
            "13125/13125 [==============================] - 39s 3ms/step - loss: 0.4559 - accuracy: 0.7788\n",
            "Epoch 49/50\n",
            "13114/13125 [============================>.] - ETA: 0s - loss: 0.4549 - accuracy: 0.7792\n",
            "Epoch 49: accuracy improved from 0.77883 to 0.77916, saving model to best_model.h5\n",
            "13125/13125 [==============================] - 40s 3ms/step - loss: 0.4549 - accuracy: 0.7792\n",
            "Epoch 50/50\n",
            "13118/13125 [============================>.] - ETA: 0s - loss: 0.4543 - accuracy: 0.7796\n",
            "Epoch 50: accuracy improved from 0.77916 to 0.77956, saving model to best_model.h5\n",
            "13125/13125 [==============================] - 39s 3ms/step - loss: 0.4544 - accuracy: 0.7796\n"
          ]
        },
        {
          "output_type": "execute_result",
          "data": {
            "text/plain": [
              "(32, 28)"
            ]
          },
          "metadata": {},
          "execution_count": 4
        }
      ],
      "source": [
        "model = Sequential([Dense(240, activation=\"relu\"),\n",
        "                    Dense(120, activation=\"relu\"),\n",
        "                    Dense(50, activation=\"relu\"),\n",
        "                    Dense(30, activation=\"relu\"),\n",
        "                    Dense(15, activation=\"relu\"),\n",
        "                    Dense(1, activation=\"sigmoid\")\n",
        "                   ])\n",
        "\n",
        "optimizer = Adam(learning_rate=0.0005)\n",
        "\n",
        "checkpoint = ModelCheckpoint(\n",
        "    'best_model.h5',\n",
        "    monitor='accuracy',\n",
        "    verbose=1,\n",
        "    save_best_only=True,\n",
        "    save_freq='epoch',\n",
        ")\n",
        "\n",
        "model.compile(optimizer=optimizer, loss='binary_crossentropy', metrics=['accuracy'])\n",
        "\n",
        "model.fit(X_train, y_train, epochs=50, callbacks=[checkpoint])\n",
        "\n",
        "model.input_shape"
      ]
    },
    {
      "cell_type": "code",
      "source": [
        "from keras import Sequential\n",
        "from tensorflow.keras.layers import Dense\n",
        "from tensorflow.keras.optimizers import Adam\n",
        "from tensorflow.keras.metrics import Accuracy\n",
        "\n",
        "model_from_file = Sequential([Dense(240, activation=\"relu\"),\n",
        "                              Dense(120, activation=\"relu\"),\n",
        "                              Dense(50, activation=\"relu\"),\n",
        "                              Dense(30, activation=\"relu\"),\n",
        "                              Dense(15, activation=\"relu\"),\n",
        "                              Dense(1, activation=\"sigmoid\")\n",
        "                             ])\n",
        "\n",
        "optimizer = Adam(learning_rate=0.0005)\n",
        "\n",
        "model_from_file.compile(optimizer=optimizer, loss='binary_crossentropy', metrics=['accuracy'])\n",
        "\n",
        "model_from_file.build([32, 28])\n",
        "\n",
        "model_from_file.load_weights('best_model.h5')\n",
        "\n",
        "print('Training Accuracy:')\n",
        "model_from_file.evaluate(X_train, y_train, verbose=2)\n",
        "\n",
        "print('Testing Accuracy:')\n",
        "model_from_file.evaluate(X_test, y_test, verbose=2)"
      ],
      "metadata": {
        "colab": {
          "base_uri": "https://localhost:8080/"
        },
        "id": "gSQl6EPVHqot",
        "outputId": "7da46aa7-9c92-48f4-cfde-42f385c17cdb"
      },
      "execution_count": 5,
      "outputs": [
        {
          "output_type": "stream",
          "name": "stdout",
          "text": [
            "Training Accuracy:\n",
            "13125/13125 - 19s - loss: 0.4456 - accuracy: 0.7850 - 19s/epoch - 1ms/step\n",
            "Testing Accuracy:\n",
            "5625/5625 - 7s - loss: nan - accuracy: 0.7418 - 7s/epoch - 1ms/step\n"
          ]
        },
        {
          "output_type": "execute_result",
          "data": {
            "text/plain": [
              "[nan, 0.7417888641357422]"
            ]
          },
          "metadata": {},
          "execution_count": 5
        }
      ]
    }
  ],
  "metadata": {
    "colab": {
      "provenance": [],
      "mount_file_id": "1vVQGAl6GVHM84ZTEeX7Mw1pvMMoJ__Zl",
      "authorship_tag": "ABX9TyPricQYxM36rROrm3SyXPSq",
      "include_colab_link": true
    },
    "gpuClass": "standard",
    "kernelspec": {
      "display_name": "Python 3",
      "name": "python3"
    },
    "language_info": {
      "name": "python"
    }
  },
  "nbformat": 4,
  "nbformat_minor": 0
}