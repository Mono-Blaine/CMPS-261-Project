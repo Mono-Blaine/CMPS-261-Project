{
  "cells": [
    {
      "cell_type": "markdown",
      "metadata": {
        "id": "view-in-github",
        "colab_type": "text"
      },
      "source": [
        "<a href=\"https://colab.research.google.com/github/Mono-Blaine/CMPS-261-Project/blob/master/261_Project.ipynb\" target=\"_parent\"><img src=\"https://colab.research.google.com/assets/colab-badge.svg\" alt=\"Open In Colab\"/></a>"
      ]
    },
    {
      "cell_type": "markdown",
      "source": [
        "[**Project Report**](https://docs.google.com/document/d/1kdt_Gwlm092zZtha0MnsCirp9Ucq2tv5pBMw6JEfFOg/edit?usp=sharing)"
      ],
      "metadata": {
        "id": "LXYV4tWka0Q1"
      }
    },
    {
      "cell_type": "code",
      "execution_count": 31,
      "metadata": {
        "id": "H376hfkon4Bi"
      },
      "outputs": [],
      "source": [
        "import pandas as pd\n",
        "import numpy as np\n",
        "\n",
        "from sklearn.linear_model import LogisticRegression\n",
        "from xgboost import XGBClassifier\n",
        "\n",
        "from sklearn.model_selection import train_test_split\n",
        "from sklearn.metrics import confusion_matrix\n",
        "from sklearn.model_selection import cross_val_score, KFold\n",
        "\n",
        "from sklearn.preprocessing import StandardScaler\n",
        "from sklearn.impute import SimpleImputer\n",
        "\n",
        "from keras import Sequential\n",
        "from tensorflow.keras.layers import Dense\n",
        "from tensorflow.keras.optimizers import Adam\n",
        "\n",
        "from tensorflow.keras.metrics import Accuracy"
      ]
    },
    {
      "cell_type": "code",
      "execution_count": 32,
      "metadata": {
        "colab": {
          "base_uri": "https://localhost:8080/"
        },
        "id": "nGVZMzRFOW5T",
        "outputId": "0af98c11-4d5a-4a26-dc4d-81c02d5b94d9"
      },
      "outputs": [
        {
          "output_type": "stream",
          "name": "stderr",
          "text": [
            "<ipython-input-32-27c2f706f39b>:3: DtypeWarning: Columns (8,21) have mixed types. Specify dtype option on import or set low_memory=False.\n",
            "  data = pd.read_csv('drive/MyDrive/HIGGS_train.csv', header=None)\n"
          ]
        }
      ],
      "source": [
        "# load the dataset\n",
        "# header=None prevents the first row from becoming column names\n",
        "data = pd.read_csv('drive/MyDrive/HIGGS_train.csv', header=None)"
      ]
    },
    {
      "cell_type": "markdown",
      "metadata": {
        "id": "_Js7tzxfm7uG"
      },
      "source": [
        "# **Preprocessing**"
      ]
    },
    {
      "cell_type": "markdown",
      "metadata": {
        "id": "4yICHjd0LZ4V"
      },
      "source": [
        "**Dirty Data:**\n",
        "* 490960V: error\n",
        "* 490961V: s\n",
        "* 261027I: \"1.01\""
      ]
    },
    {
      "cell_type": "code",
      "execution_count": 33,
      "metadata": {
        "colab": {
          "base_uri": "https://localhost:8080/"
        },
        "id": "iJKgz8_5n2o4",
        "outputId": "c580a672-741a-4954-eacc-1b9242272e58"
      },
      "outputs": [
        {
          "output_type": "stream",
          "name": "stdout",
          "text": [
            "(600000, 29)\n",
            "(600000, 29)\n"
          ]
        }
      ],
      "source": [
        "# removes rows that aren't of type float. however, removes a lot so something wrong may be happening\n",
        "# for i in range(29):\n",
        "#     data = data[[not isinstance(value, str) for value in data[i]]]\n",
        "#     data = data[[isinstance(value, float) for value in data[i]]]\n",
        "\n",
        "# removes columns that aren't all float\n",
        "# data2=data2.select_dtypes(include=['float64'])\n",
        "# data2=data2.select_dtypes(exclude=['object'])\n",
        "\n",
        "print(data.shape)\n",
        "\n",
        "def filter(value):\n",
        "    if isinstance(value, str) and not value.isnumeric():\n",
        "        try:\n",
        "            return float(value.replace('\"','').replace('\\'',''))\n",
        "        except:\n",
        "            return 0;\n",
        "    return value\n",
        "\n",
        "data = data.applymap(filter)\n",
        "\n",
        "print(data.shape)\n",
        "\n",
        "# get features\n",
        "X = data.iloc[:, 1:]\n",
        "# get output\n",
        "y = data.iloc[:, 0]\n",
        "\n",
        "X_train, X_test, y_train, y_test = train_test_split(X, y, test_size=0.3, random_state=42)"
      ]
    },
    {
      "cell_type": "markdown",
      "metadata": {
        "id": "GQ8tAHZYo83-"
      },
      "source": [
        "# **Logistic Regression**"
      ]
    },
    {
      "cell_type": "code",
      "execution_count": null,
      "metadata": {
        "colab": {
          "base_uri": "https://localhost:8080/"
        },
        "id": "5NqDXUnJn-k4",
        "outputId": "68d8b290-a2db-4e27-8559-d0e11ed3b485"
      },
      "outputs": [
        {
          "name": "stdout",
          "output_type": "stream",
          "text": [
            "(420000, 28)\n",
            "Accuracy: 0.6420166666666667\n"
          ]
        }
      ],
      "source": [
        "# scales features\n",
        "# result = (value - mean) / standardDeviation\n",
        "sc = StandardScaler()\n",
        "X_train = sc.fit_transform(X_train)\n",
        "X_test = sc.transform(X_test)\n",
        "\n",
        "# fills missing values, if any\n",
        "imp = SimpleImputer(missing_values=np.nan, strategy='most_frequent')\n",
        "X_train = imp.fit_transform(X_train)\n",
        "X_test = imp.fit_transform(X_test)\n",
        "\n",
        "# create the model\n",
        "model = LogisticRegression(max_iter=10000,  penalty='l2', solver='lbfgs')\n",
        "\n",
        "# training\n",
        "model.fit(X_train, y_train)\n",
        "\n",
        "# predict the result of testing data\n",
        "y_pred = model.predict(X_test)\n",
        "\n",
        "# check model performance\n",
        "accuracy = accuracy_score(y_test, y_pred)\n",
        "print(\"Accuracy:\", accuracy)\n",
        "# print(cross_val_score(model, X, y, cv=5, error_score='raise'))\n",
        "# Accuracy: 0.6420222222222223"
      ]
    },
    {
      "cell_type": "markdown",
      "metadata": {
        "id": "r9bKvDh7nBAV"
      },
      "source": [
        "# **XGBoost**"
      ]
    },
    {
      "cell_type": "code",
      "execution_count": null,
      "metadata": {
        "colab": {
          "base_uri": "https://localhost:8080/"
        },
        "id": "LgseyH1CmRUe",
        "outputId": "7682a6e1-e9c8-4a17-ecb3-bdf308e8a51c"
      },
      "outputs": [
        {
          "output_type": "stream",
          "name": "stdout",
          "text": [
            "[0]\tvalidation_0-logloss:0.65261\n",
            "[1]\tvalidation_0-logloss:0.62713\n",
            "[2]\tvalidation_0-logloss:0.60944\n",
            "[3]\tvalidation_0-logloss:0.59720\n",
            "[4]\tvalidation_0-logloss:0.58707\n",
            "[5]\tvalidation_0-logloss:0.57900\n",
            "[6]\tvalidation_0-logloss:0.57244\n",
            "[7]\tvalidation_0-logloss:0.56699\n",
            "[8]\tvalidation_0-logloss:0.56237\n",
            "[9]\tvalidation_0-logloss:0.55932\n",
            "[10]\tvalidation_0-logloss:0.55632\n",
            "[11]\tvalidation_0-logloss:0.55335\n",
            "[12]\tvalidation_0-logloss:0.55115\n",
            "[13]\tvalidation_0-logloss:0.54916\n",
            "[14]\tvalidation_0-logloss:0.54732\n",
            "[15]\tvalidation_0-logloss:0.54549\n",
            "[16]\tvalidation_0-logloss:0.54428\n",
            "[17]\tvalidation_0-logloss:0.54273\n",
            "[18]\tvalidation_0-logloss:0.54153\n",
            "[19]\tvalidation_0-logloss:0.54001\n",
            "[20]\tvalidation_0-logloss:0.53905\n",
            "[21]\tvalidation_0-logloss:0.53810\n",
            "[22]\tvalidation_0-logloss:0.53714\n",
            "[23]\tvalidation_0-logloss:0.53670\n",
            "[24]\tvalidation_0-logloss:0.53621\n",
            "[25]\tvalidation_0-logloss:0.53480\n",
            "[26]\tvalidation_0-logloss:0.53429\n",
            "[27]\tvalidation_0-logloss:0.53383\n",
            "[28]\tvalidation_0-logloss:0.53341\n",
            "[29]\tvalidation_0-logloss:0.53313\n",
            "[30]\tvalidation_0-logloss:0.53231\n",
            "[31]\tvalidation_0-logloss:0.53200\n",
            "[32]\tvalidation_0-logloss:0.53142\n",
            "[33]\tvalidation_0-logloss:0.53092\n",
            "[34]\tvalidation_0-logloss:0.53026\n",
            "[35]\tvalidation_0-logloss:0.52975\n",
            "[36]\tvalidation_0-logloss:0.52853\n",
            "[37]\tvalidation_0-logloss:0.52832\n",
            "[38]\tvalidation_0-logloss:0.52807\n",
            "[39]\tvalidation_0-logloss:0.52770\n",
            "[40]\tvalidation_0-logloss:0.52727\n",
            "[41]\tvalidation_0-logloss:0.52709\n",
            "[42]\tvalidation_0-logloss:0.52681\n",
            "[43]\tvalidation_0-logloss:0.52638\n",
            "[44]\tvalidation_0-logloss:0.52608\n",
            "[45]\tvalidation_0-logloss:0.52597\n",
            "[46]\tvalidation_0-logloss:0.52557\n",
            "[47]\tvalidation_0-logloss:0.52513\n",
            "[48]\tvalidation_0-logloss:0.52484\n",
            "[49]\tvalidation_0-logloss:0.52472\n",
            "[50]\tvalidation_0-logloss:0.52460\n",
            "[51]\tvalidation_0-logloss:0.52421\n",
            "[52]\tvalidation_0-logloss:0.52412\n",
            "[53]\tvalidation_0-logloss:0.52401\n",
            "[54]\tvalidation_0-logloss:0.52377\n",
            "[55]\tvalidation_0-logloss:0.52306\n",
            "[56]\tvalidation_0-logloss:0.52290\n",
            "[57]\tvalidation_0-logloss:0.52265\n",
            "[58]\tvalidation_0-logloss:0.52250\n",
            "[59]\tvalidation_0-logloss:0.52233\n",
            "[60]\tvalidation_0-logloss:0.52192\n",
            "[61]\tvalidation_0-logloss:0.52169\n",
            "[62]\tvalidation_0-logloss:0.52149\n",
            "[63]\tvalidation_0-logloss:0.52148\n",
            "[64]\tvalidation_0-logloss:0.52142\n",
            "[65]\tvalidation_0-logloss:0.52130\n",
            "[66]\tvalidation_0-logloss:0.52124\n",
            "[67]\tvalidation_0-logloss:0.52117\n",
            "[68]\tvalidation_0-logloss:0.52098\n",
            "[69]\tvalidation_0-logloss:0.52091\n",
            "[70]\tvalidation_0-logloss:0.52081\n",
            "[71]\tvalidation_0-logloss:0.52078\n",
            "[72]\tvalidation_0-logloss:0.52078\n",
            "[73]\tvalidation_0-logloss:0.52078\n",
            "[74]\tvalidation_0-logloss:0.52075\n",
            "[75]\tvalidation_0-logloss:0.52049\n",
            "[76]\tvalidation_0-logloss:0.52035\n",
            "[77]\tvalidation_0-logloss:0.52024\n",
            "[78]\tvalidation_0-logloss:0.52013\n",
            "[79]\tvalidation_0-logloss:0.52008\n",
            "[80]\tvalidation_0-logloss:0.51997\n",
            "[81]\tvalidation_0-logloss:0.51985\n",
            "[82]\tvalidation_0-logloss:0.51985\n",
            "[83]\tvalidation_0-logloss:0.51986\n",
            "[84]\tvalidation_0-logloss:0.51970\n",
            "[85]\tvalidation_0-logloss:0.51928\n",
            "[86]\tvalidation_0-logloss:0.51912\n",
            "[87]\tvalidation_0-logloss:0.51911\n",
            "[88]\tvalidation_0-logloss:0.51907\n",
            "[89]\tvalidation_0-logloss:0.51906\n",
            "[90]\tvalidation_0-logloss:0.51908\n",
            "[91]\tvalidation_0-logloss:0.51906\n",
            "[92]\tvalidation_0-logloss:0.51895\n",
            "[93]\tvalidation_0-logloss:0.51859\n",
            "[94]\tvalidation_0-logloss:0.51855\n",
            "[95]\tvalidation_0-logloss:0.51853\n",
            "[96]\tvalidation_0-logloss:0.51855\n",
            "[97]\tvalidation_0-logloss:0.51854\n",
            "[98]\tvalidation_0-logloss:0.51854\n",
            "[99]\tvalidation_0-logloss:0.51857\n",
            "Accuracy Score: 0.7380666666666666\n",
            "Confusion Matrix\n",
            "[[50301 20160]\n",
            " [19130 60409]]\n",
            "K-fold CV average score: 0.73\n"
          ]
        }
      ],
      "source": [
        "# create the XGBoost model\n",
        "model = XGBClassifier(objective=\"binary:logistic\",\n",
        "                      random_state=42,\n",
        "                      max_depth=6, # 0.7380666666666666\n",
        "                      learning_rate=0.25)\n",
        "\n",
        "# train the model\n",
        "model.fit(X_train, y_train, eval_set=[(X_test, y_test)])\n",
        "\n",
        "# predict the result of testing data\n",
        "y_pred = model.predict(X_test)\n",
        "\n",
        "# check model performance\n",
        "print(\"Accuracy Score:\", accuracy_score(y_test, y_pred))\n",
        "\n",
        "# do K-fold (5-fold) cross-validation\n",
        "kfold = KFold(n_splits=5, shuffle=True)\n",
        "kf_cv_scores = cross_val_score(model, X_train, y_train, cv=kfold )\n",
        "print(\"K-fold CV average score: %.2f\" % kf_cv_scores.mean())"
      ]
    },
    {
      "cell_type": "markdown",
      "metadata": {
        "id": "E92qxEip-BUm"
      },
      "source": [
        "# **Neural Networks**"
      ]
    },
    {
      "cell_type": "code",
      "execution_count": 34,
      "metadata": {
        "colab": {
          "base_uri": "https://localhost:8080/"
        },
        "id": "tb5tlxGo-AkB",
        "outputId": "b1dd5c21-fe31-4e97-d870-08df017b7568"
      },
      "outputs": [
        {
          "output_type": "stream",
          "name": "stdout",
          "text": [
            "Epoch 1/25\n",
            "13125/13125 [==============================] - 41s 3ms/step - loss: 0.6055 - accuracy: 0.6657\n",
            "Epoch 2/25\n",
            "13125/13125 [==============================] - 42s 3ms/step - loss: 0.5710 - accuracy: 0.6984\n",
            "Epoch 3/25\n",
            "13125/13125 [==============================] - 40s 3ms/step - loss: 0.5539 - accuracy: 0.7129\n",
            "Epoch 4/25\n",
            "13125/13125 [==============================] - 42s 3ms/step - loss: 0.5429 - accuracy: 0.7210\n",
            "Epoch 5/25\n",
            "13125/13125 [==============================] - 40s 3ms/step - loss: 0.5350 - accuracy: 0.7273\n",
            "Epoch 6/25\n",
            "13125/13125 [==============================] - 37s 3ms/step - loss: 0.5285 - accuracy: 0.7319\n",
            "Epoch 7/25\n",
            "13125/13125 [==============================] - 39s 3ms/step - loss: 0.5227 - accuracy: 0.7358\n",
            "Epoch 8/25\n",
            "13125/13125 [==============================] - 41s 3ms/step - loss: 0.5179 - accuracy: 0.7393\n",
            "Epoch 9/25\n",
            "13125/13125 [==============================] - 41s 3ms/step - loss: 0.5136 - accuracy: 0.7419\n",
            "Epoch 10/25\n",
            "13125/13125 [==============================] - 41s 3ms/step - loss: 0.5098 - accuracy: 0.7442\n",
            "Epoch 11/25\n",
            "13125/13125 [==============================] - 38s 3ms/step - loss: 0.5060 - accuracy: 0.7471\n",
            "Epoch 12/25\n",
            "13125/13125 [==============================] - 38s 3ms/step - loss: 0.5026 - accuracy: 0.7490\n",
            "Epoch 13/25\n",
            "13125/13125 [==============================] - 36s 3ms/step - loss: 0.5002 - accuracy: 0.7509\n",
            "Epoch 14/25\n",
            "13125/13125 [==============================] - 38s 3ms/step - loss: 0.4970 - accuracy: 0.7529\n",
            "Epoch 15/25\n",
            "13125/13125 [==============================] - 38s 3ms/step - loss: 0.4947 - accuracy: 0.7543\n",
            "Epoch 16/25\n",
            "13125/13125 [==============================] - 37s 3ms/step - loss: 0.4921 - accuracy: 0.7557\n",
            "Epoch 17/25\n",
            "13125/13125 [==============================] - 38s 3ms/step - loss: 0.4898 - accuracy: 0.7572\n",
            "Epoch 18/25\n",
            "13125/13125 [==============================] - 38s 3ms/step - loss: 0.4879 - accuracy: 0.7591\n",
            "Epoch 19/25\n",
            "13125/13125 [==============================] - 38s 3ms/step - loss: 0.4858 - accuracy: 0.7602\n",
            "Epoch 20/25\n",
            "13125/13125 [==============================] - 38s 3ms/step - loss: 0.4844 - accuracy: 0.7605\n",
            "Epoch 21/25\n",
            "13125/13125 [==============================] - 38s 3ms/step - loss: 0.4827 - accuracy: 0.7620\n",
            "Epoch 22/25\n",
            "13125/13125 [==============================] - 37s 3ms/step - loss: 0.4804 - accuracy: 0.7636\n",
            "Epoch 23/25\n",
            "13125/13125 [==============================] - 38s 3ms/step - loss: 0.4789 - accuracy: 0.7643\n",
            "Epoch 24/25\n",
            "13125/13125 [==============================] - 38s 3ms/step - loss: 0.4771 - accuracy: 0.7651\n",
            "Epoch 25/25\n",
            "13125/13125 [==============================] - 37s 3ms/step - loss: 0.4755 - accuracy: 0.7660\n",
            "5625/5625 - 8s - loss: nan - accuracy: 0.7406 - 8s/epoch - 1ms/step\n"
          ]
        },
        {
          "output_type": "execute_result",
          "data": {
            "text/plain": [
              "[nan, 0.7406389117240906]"
            ]
          },
          "metadata": {},
          "execution_count": 34
        }
      ],
      "source": [
        "model = Sequential([Dense(240, activation=\"relu\"),\n",
        "                    Dense(120, activation=\"relu\"),\n",
        "                    Dense(50, activation=\"relu\"),\n",
        "                    Dense(30, activation=\"relu\"),\n",
        "                    Dense(15, activation=\"relu\"),\n",
        "                    Dense(1, activation=\"sigmoid\")\n",
        "                  ])\n",
        "\n",
        "optimizer = Adam(learning_rate=0.0005)\n",
        "\n",
        "model.compile(optimizer=optimizer, loss='binary_crossentropy', metrics=['accuracy'])\n",
        "\n",
        "model.fit(X_train, y_train, epochs=25)\n",
        "\n",
        "model.evaluate(X_test, y_test, verbose=2)"
      ]
    }
  ],
  "metadata": {
    "colab": {
      "provenance": [],
      "mount_file_id": "1vVQGAl6GVHM84ZTEeX7Mw1pvMMoJ__Zl",
      "authorship_tag": "ABX9TyOiMOejGY/vGVV6NB/WQi7P",
      "include_colab_link": true
    },
    "gpuClass": "standard",
    "kernelspec": {
      "display_name": "Python 3",
      "name": "python3"
    },
    "language_info": {
      "name": "python"
    }
  },
  "nbformat": 4,
  "nbformat_minor": 0
}